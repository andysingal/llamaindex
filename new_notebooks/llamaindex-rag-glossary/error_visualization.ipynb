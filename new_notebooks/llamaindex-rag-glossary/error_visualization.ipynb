{
 "cells": [
  {
   "cell_type": "code",
   "execution_count": 1,
   "metadata": {},
   "outputs": [],
   "source": [
    "import pandas as pd\n",
    "\n",
    "# Load the dataframes from JSON files\n",
    "df1 = pd.read_json(\"eval_results.json\")\n",
    "df2 = pd.read_json(\"improved_eval_results.json\")\n",
    "\n",
    "# Set 'question' as the index for all dataframes\n",
    "df1.set_index('question', inplace=True)\n",
    "df2.set_index('question', inplace=True)\n",
    "\n",
    "# First, add suffixes to df1 and df2 columns to distinguish them\n",
    "df1 = df1.add_suffix('_orig')\n",
    "df2 = df2.add_suffix('_impr')\n",
    "\n",
    "# Merge df1 and df2\n",
    "df_final = df1.merge(df2, left_index=True, right_index=True)\n",
    "\n",
    "\n",
    "# Assuming 'ground_truth' values are consistent across all dataframes and need to be uniquely handled\n",
    "# Since we've now correctly suffixed all columns, we should only have one 'ground_truth' column with a suffix\n",
    "# If 'ground_truth_orig' exists, we can rename it back to 'ground_truth' for clarity\n",
    "if 'ground_truth_orig' in df_final.columns:\n",
    "    df_final.rename(columns={'ground_truth_orig': 'ground_truth'}, inplace=True)\n",
    "\n",
    "# Sort the columns alphabetically\n",
    "df = df_final.sort_index(axis=1)\n",
    "\n",
    "df.reset_index(inplace=True)\n"
   ]
  },
  {
   "cell_type": "code",
   "execution_count": 2,
   "metadata": {},
   "outputs": [
    {
     "data": {
      "application/vnd.jupyter.widget-view+json": {
       "model_id": "a77b24bf0e064335b70b9ed5d42d7217",
       "version_major": 2,
       "version_minor": 0
      },
      "text/plain": [
       "VBox(children=(Label(value='Spotlight running on http://127.0.0.1:8888/'), HBox(children=(Button(description='…"
      ]
     },
     "metadata": {},
     "output_type": "display_data"
    }
   ],
   "source": [
    "# Start Renumics Spotlight for visualization\n",
    "from renumics import spotlight\n",
    "spotlight.show(df, port=8888, layout=\"spotlight-layout.json\")"
   ]
  },
  {
   "cell_type": "code",
   "execution_count": null,
   "metadata": {},
   "outputs": [],
   "source": []
  }
 ],
 "metadata": {
  "kernelspec": {
   "display_name": ".venv",
   "language": "python",
   "name": "python3"
  },
  "language_info": {
   "codemirror_mode": {
    "name": "ipython",
    "version": 3
   },
   "file_extension": ".py",
   "mimetype": "text/x-python",
   "name": "python",
   "nbconvert_exporter": "python",
   "pygments_lexer": "ipython3",
   "version": "3.11.5"
  }
 },
 "nbformat": 4,
 "nbformat_minor": 2
}
