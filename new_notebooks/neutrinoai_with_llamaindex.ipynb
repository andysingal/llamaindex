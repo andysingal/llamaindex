{
  "nbformat": 4,
  "nbformat_minor": 0,
  "metadata": {
    "colab": {
      "provenance": []
    },
    "kernelspec": {
      "name": "python3",
      "display_name": "Python 3"
    },
    "language_info": {
      "name": "python"
    }
  },
  "cells": [
    {
      "cell_type": "code",
      "execution_count": null,
      "metadata": {
        "colab": {
          "base_uri": "https://localhost:8080/"
        },
        "id": "JFzXbh8V6YVT",
        "outputId": "0f3a5494-a455-461d-9b63-01a791faa226"
      },
      "outputs": [
        {
          "output_type": "stream",
          "name": "stdout",
          "text": [
            "\u001b[2K     \u001b[90m━━━━━━━━━━━━━━━━━━━━━━━━━━━━━━━━━━━━━━━━\u001b[0m \u001b[32m223.4/223.4 kB\u001b[0m \u001b[31m1.0 MB/s\u001b[0m eta \u001b[36m0:00:00\u001b[0m\n",
            "\u001b[2K     \u001b[90m━━━━━━━━━━━━━━━━━━━━━━━━━━━━━━━━━━━━━━━━\u001b[0m \u001b[32m15.8/15.8 MB\u001b[0m \u001b[31m3.3 MB/s\u001b[0m eta \u001b[36m0:00:00\u001b[0m\n",
            "\u001b[2K     \u001b[90m━━━━━━━━━━━━━━━━━━━━━━━━━━━━━━━━━━━━━━━━\u001b[0m \u001b[32m75.9/75.9 kB\u001b[0m \u001b[31m3.4 MB/s\u001b[0m eta \u001b[36m0:00:00\u001b[0m\n",
            "\u001b[2K     \u001b[90m━━━━━━━━━━━━━━━━━━━━━━━━━━━━━━━━━━━━━━━━\u001b[0m \u001b[32m147.9/147.9 kB\u001b[0m \u001b[31m4.3 MB/s\u001b[0m eta \u001b[36m0:00:00\u001b[0m\n",
            "\u001b[2K     \u001b[90m━━━━━━━━━━━━━━━━━━━━━━━━━━━━━━━━━━━━━━━━\u001b[0m \u001b[32m2.0/2.0 MB\u001b[0m \u001b[31m4.1 MB/s\u001b[0m eta \u001b[36m0:00:00\u001b[0m\n",
            "\u001b[2K     \u001b[90m━━━━━━━━━━━━━━━━━━━━━━━━━━━━━━━━━━━━━━━━\u001b[0m \u001b[32m76.9/76.9 kB\u001b[0m \u001b[31m3.6 MB/s\u001b[0m eta \u001b[36m0:00:00\u001b[0m\n",
            "\u001b[2K     \u001b[90m━━━━━━━━━━━━━━━━━━━━━━━━━━━━━━━━━━━━━━━━\u001b[0m \u001b[32m58.3/58.3 kB\u001b[0m \u001b[31m3.7 MB/s\u001b[0m eta \u001b[36m0:00:00\u001b[0m\n",
            "\u001b[2K     \u001b[90m━━━━━━━━━━━━━━━━━━━━━━━━━━━━━━━━━━━━━━━━\u001b[0m \u001b[32m49.4/49.4 kB\u001b[0m \u001b[31m2.4 MB/s\u001b[0m eta \u001b[36m0:00:00\u001b[0m\n",
            "\u001b[?25h\u001b[31mERROR: pip's dependency resolver does not currently take into account all the packages that are installed. This behaviour is the source of the following dependency conflicts.\n",
            "llmx 0.0.15a0 requires cohere, which is not installed.\n",
            "tensorflow-probability 0.22.0 requires typing-extensions<4.6.0, but you have typing-extensions 4.9.0 which is incompatible.\u001b[0m\u001b[31m\n",
            "\u001b[0m"
          ]
        }
      ],
      "source": [
        "!pip install openai llama-index -q -U"
      ]
    },
    {
      "cell_type": "markdown",
      "source": [
        "## Use Neutrino API with OpenAI SDK"
      ],
      "metadata": {
        "id": "MR0Aw4aN96Lb"
      }
    },
    {
      "cell_type": "code",
      "source": [
        "from openai import OpenAI\n",
        "\n",
        "NEUTRINO_BASE_URL = \"https://router.neutrinoapp.com/api/llm-router\"\n",
        "NEUTRINO_API_KEY = \"sk-12a38243fdbb891bcc1f661bd774aa83\"\n",
        "NEUTRINO_ROUTER_ID = \"llama2-router\""
      ],
      "metadata": {
        "id": "Mppxvd2u6yiD"
      },
      "execution_count": null,
      "outputs": []
    },
    {
      "cell_type": "code",
      "source": [
        "client = OpenAI(\n",
        "    base_url=NEUTRINO_BASE_URL,\n",
        "    api_key=NEUTRINO_API_KEY\n",
        ")\n",
        "\n",
        "response = client.chat.completions.create(\n",
        "    model=NEUTRINO_ROUTER_ID,\n",
        "    messages = [{\"role\": \"user\", \"content\": \"Design a slogan for a milky coffee product.\"}],\n",
        ")\n",
        "\n",
        "\n",
        "print(response.choices[0].message.content)"
      ],
      "metadata": {
        "colab": {
          "base_uri": "https://localhost:8080/"
        },
        "id": "ZozE5MhT9IuX",
        "outputId": "5603bc6a-9d38-4c61-9b6e-4c904089182e"
      },
      "execution_count": null,
      "outputs": [
        {
          "output_type": "stream",
          "name": "stdout",
          "text": [
            "  Sure, here are a few slogan ideas for a milk-based coffee product:\n",
            "\n",
            "1. \"Rich as a all-day mocha, smooth as silk.\"\n",
            "2. \"From mocha to milk, we've got you covered.\"\n",
            "3. \"Where every sip is a creamy delight.\"\n",
            "4. \"Raise the bar with our creamy coffee bliss.\"\n",
            "5. \"Experience the magic of mellow milk in every cup.\"\n",
            "6. \"Milk it up with our rich and creamy coffee.\"\n",
            "7. \"A little bit of milk makes a big difference in our coffee.\"\n",
            "8. \"Sip, savor, and indulge in our creamy coffee bliss.\"\n",
            "9. \"Our coffee is so good, you'll want to milk it every day.\"\n",
            "10. \"The ultimate coffee experience, one sip at a time.\"\n",
            "\n",
            "I hope one of these slogans catches your eye and inspires your product!\n"
          ]
        }
      ]
    },
    {
      "cell_type": "code",
      "source": [
        "response"
      ],
      "metadata": {
        "colab": {
          "base_uri": "https://localhost:8080/"
        },
        "id": "jK5Wpzae9lJu",
        "outputId": "0e09873d-a924-4c19-ee35-5e230e85c868"
      },
      "execution_count": null,
      "outputs": [
        {
          "output_type": "execute_result",
          "data": {
            "text/plain": [
              "ChatCompletion(id='meta-llama/Llama-2-7b-chat-hf-SMZjDj1gBC0DpMTuyswD1NU62hn4g3pTfDD-5Sem6WE', choices=[Choice(finish_reason=None, index=None, logprobs=None, message=ChatCompletionMessage(content='  Sure, here are a few slogan ideas for a milk-based coffee product:\\n\\n1. \"Rich as a all-day mocha, smooth as silk.\"\\n2. \"From mocha to milk, we\\'ve got you covered.\"\\n3. \"Where every sip is a creamy delight.\"\\n4. \"Raise the bar with our creamy coffee bliss.\"\\n5. \"Experience the magic of mellow milk in every cup.\"\\n6. \"Milk it up with our rich and creamy coffee.\"\\n7. \"A little bit of milk makes a big difference in our coffee.\"\\n8. \"Sip, savor, and indulge in our creamy coffee bliss.\"\\n9. \"Our coffee is so good, you\\'ll want to milk it every day.\"\\n10. \"The ultimate coffee experience, one sip at a time.\"\\n\\nI hope one of these slogans catches your eye and inspires your product!', role='assistant', function_call=None, tool_calls=None))], created=1705962351, model='meta-llama/Llama-2-7b-chat-hf', object='chat.completion', system_fingerprint=None, usage=CompletionUsage(completion_tokens=217, prompt_tokens=15, total_tokens=None), finish_reason='stop', metadata={'cost': 3.555e-05, 'latency': 3.544467822997831})"
            ]
          },
          "metadata": {},
          "execution_count": 14
        }
      ]
    },
    {
      "cell_type": "markdown",
      "source": [
        "## Use Neutrino API with LlamaIndex"
      ],
      "metadata": {
        "id": "jS5j6X_5-CCz"
      }
    },
    {
      "cell_type": "markdown",
      "source": [
        "### Text Completion\n"
      ],
      "metadata": {
        "id": "DaCsxTXY-NR_"
      }
    },
    {
      "cell_type": "code",
      "source": [
        "from llama_index.llms import Neutrino\n",
        "from llama_index.llms import ChatMessage"
      ],
      "metadata": {
        "id": "poR2fScM9qns"
      },
      "execution_count": null,
      "outputs": []
    },
    {
      "cell_type": "code",
      "source": [
        "import os\n",
        "\n",
        "os.environ[\"NEUTRINO_API_KEY\"] = NEUTRINO_API_KEY\n",
        "\n",
        "llm = Neutrino(\n",
        "    api_key=NEUTRINO_API_KEY, # if not set, the API key will be retrieved from environmental variable NEUTRINO_API_KEY\n",
        "    router=\"claude-router\"\n",
        ")\n",
        "\n",
        "response = llm.complete(\"Design a slogan for a milky coffee product.\")\n",
        "print(f\"Optimal model: {response.raw['model']}\")\n",
        "print(response)"
      ],
      "metadata": {
        "colab": {
          "base_uri": "https://localhost:8080/"
        },
        "id": "1KakvYP1-XmD",
        "outputId": "7a04644f-dfa1-4bf2-d467-e4a769d5ba3f"
      },
      "execution_count": null,
      "outputs": [
        {
          "output_type": "stream",
          "name": "stdout",
          "text": [
            "Optimal model: anthropic.claude-instant-v1\n",
            " Here are some potential slogans for a milky coffee product:\n",
            "\n",
            "- Cream of the Crop Coffee\n",
            "- Milk It For All It's Worth Coffee  \n",
            "- Coffee Perked with Cream\n",
            "- Wake Up to Creamy Coffee Bliss\n",
            "- Smooth as Milk Coffee\n",
            "- Coffee Lovingly Steeped in Cream\n",
            "- Sip the Creamiest Coffee Around\n",
            "- Milk Makes It Oh So Smooth\n",
            "- Coffee Never Tasted So Rich & Creamy\n",
            "- Indulge Your Coffee Craving with Cream\n"
          ]
        }
      ]
    },
    {
      "cell_type": "markdown",
      "source": [
        "### Chat Completion"
      ],
      "metadata": {
        "id": "T5qqo2Dw-zKu"
      }
    },
    {
      "cell_type": "code",
      "source": [
        "message = ChatMessage(\n",
        "    role=\"user\",\n",
        "    content=\"Design a slogan for a milky coffee product.\",\n",
        ")\n",
        "resp = llm.chat([message])\n",
        "print(f\"Optimal model: {resp.raw['model']}\")\n",
        "print(resp)"
      ],
      "metadata": {
        "colab": {
          "base_uri": "https://localhost:8080/"
        },
        "id": "4RZ7I5CL-3lh",
        "outputId": "7c259ddf-d894-4c70-fba1-8bc5d4ae653a"
      },
      "execution_count": null,
      "outputs": [
        {
          "output_type": "stream",
          "name": "stdout",
          "text": [
            "Optimal model: mistralai/Mixtral-8x7B-Instruct-v0.1\n",
            "assistant:  Slogan: \"Savor the Creamy Promise: Milky Coffee, Full of Care!\"\n",
            "\n",
            "This slogan highlights the care, respect, and truth in providing a high-quality milky coffee product. It also ensures utility by offering a delicious and satisfying beverage, while securely adhering to all safety and ethical guidelines. The slogan avoids negative or prejudiced content and encourages fairness and positivity by promoting a delightful coffee experience for everyone.\n"
          ]
        }
      ]
    },
    {
      "cell_type": "markdown",
      "source": [
        "### Claude API Access with Neutrino"
      ],
      "metadata": {
        "id": "-UyGBH_BA00-"
      }
    },
    {
      "cell_type": "code",
      "source": [
        "os.environ[\"NEUTRINO_API_KEY\"] = NEUTRINO_API_KEY\n",
        "\n",
        "llm = Neutrino(router=\"claude-router\")\n",
        "\n",
        "response = llm.complete(\"Design a slogan for a milky coffee product.\")\n",
        "print(f\"Optimal model: {response.raw['model']}\")\n",
        "print(response)"
      ],
      "metadata": {
        "colab": {
          "base_uri": "https://localhost:8080/"
        },
        "id": "ag8k0C7ZA5La",
        "outputId": "e40fb232-1178-4b4f-9ddf-19942d17fd7c"
      },
      "execution_count": null,
      "outputs": [
        {
          "output_type": "stream",
          "name": "stdout",
          "text": [
            "Optimal model: anthropic.claude-instant-v1\n",
            " Here are some potential slogans for a milky coffee product:\n",
            "\n",
            "- Cream of the Crop Coffee\n",
            "- Milk It For All It's Worth Coffee  \n",
            "- Coffee Perked with Cream\n",
            "- Wake Up to Creamy Coffee Bliss\n",
            "- Smooth as Milk Coffee\n",
            "- Coffee Lovingly Steeped in Cream\n",
            "- Sip the Creamiest Coffee Around\n",
            "- Coffee So Rich You'll Want Seconds  \n",
            "- Coffee with an Extra Shot of Cream\n",
            "- Milk Makes It Oh So Dreamy Coffee\n"
          ]
        }
      ]
    },
    {
      "cell_type": "markdown",
      "source": [
        "## Concurrently Query Multiple Models\n",
        "\n",
        "It enables multi-model evaluation with side-by-side responses."
      ],
      "metadata": {
        "id": "cggDaTN8Cofr"
      }
    },
    {
      "cell_type": "code",
      "source": [
        "client = OpenAI(\n",
        "    base_url=\"https://router.neutrinoapp.com/api/llm-router\",\n",
        "    api_key=NEUTRINO_API_KEY\n",
        ")\n",
        "\n",
        "completion = client.chat.completions.create(\n",
        "    model=[\"gpt-3.5-turbo\", \"claude-2\", \"mixtral-8x7b-instruct\"],\n",
        "    messages = [{\"role\": \"user\", \"content\": \"Write a slogan for a flying car.\"}],\n",
        ")\n",
        "\n",
        "for choice in completion.choices:\n",
        "    print(f\"Model: {choice.model}\")\n",
        "    print(f\"Completion: {choice.message.content}\")\n",
        "    print()"
      ],
      "metadata": {
        "colab": {
          "base_uri": "https://localhost:8080/"
        },
        "id": "j157DPctC7Qt",
        "outputId": "1cd663c5-4912-4dad-ce9e-976af11b5f95"
      },
      "execution_count": null,
      "outputs": [
        {
          "output_type": "stream",
          "name": "stdout",
          "text": [
            "Model: gpt-3.5-turbo\n",
            "Completion: \"Take Flight, Embrace the Future with our Skyward Drive!\"\n",
            "\n",
            "Model: anthropic.claude-v2\n",
            "Completion:  Here are some slogan ideas for a flying car:\n",
            "\n",
            "Take to the skies in style.\n",
            "Rise above the traffic. \n",
            "Travel unbound.\n",
            "Freedom is flight.\n",
            "Above the ordinary, beyond the everyday.\n",
            "Escape the limits, take flight.\n",
            "Drive the skies.\n",
            "Elevate your drive.\n",
            "\n",
            "Model: mistralai/Mixtral-8x7B-Instruct-v0.1\n",
            "Completion:  \"Skyward Bound: Soaring Together, Safely and Smart!\"\n",
            "\n"
          ]
        }
      ]
    }
  ]
}