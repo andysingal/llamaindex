{
  "cells": [
    {
      "cell_type": "markdown",
      "metadata": {
        "id": "0N0o6eLorq6K"
      },
      "source": [
        "# Building an Agent around a Query Pipeline"
      ]
    },
    {
      "cell_type": "markdown",
      "metadata": {
        "id": "ZiRYkFP8wlct"
      },
      "source": [
        "In this cookbook we show you how to build an agent around a query pipeline.\n",
        "\n",
        "Agents offer the ability to do complex, sequential reasoning on top of any query DAG that you have setup. Conceptually this is also one of the ways you can add a “loop” to the graph.\n",
        "\n",
        "We show you two examples of agents you can implement:\n",
        "\n",
        "a full ReAct agent that can do tool picking\n",
        "\n",
        "a “simple” agent that adds a retry layer around a text-to-sql query engine."
      ]
    },
    {
      "cell_type": "markdown",
      "metadata": {
        "id": "xLlMdqkpwwFV"
      },
      "source": [
        "# Setup"
      ]
    },
    {
      "cell_type": "markdown",
      "metadata": {
        "id": "3HUdHvzXwzAd"
      },
      "source": [
        "We use the chinook database as sample data. [Source](https://www.sqlitetutorial.net/sqlite-sample-database/)."
      ]
    },
    {
      "cell_type": "markdown",
      "metadata": {
        "id": "_vZ_DDu0rfZl"
      },
      "source": [
        "**Let's install some dependencies, the first line though is to restart the notebook, just in case you need to start over**"
      ]
    },
    {
      "cell_type": "code",
      "execution_count": null,
      "metadata": {
        "colab": {
          "base_uri": "https://localhost:8080/"
        },
        "id": "BuAhJq0Abh2O",
        "outputId": "3e2b91b4-9b8a-4d3f-a9a8-17f9f01744da"
      },
      "outputs": [],
      "source": [
        "!pip3 install llama-index"
      ]
    },
    {
      "cell_type": "code",
      "execution_count": null,
      "metadata": {
        "id": "22ZrpifwZK-U"
      },
      "outputs": [],
      "source": [
        "from llama_index.core import SQLDatabase\n",
        "from sqlalchemy import (\n",
        "    create_engine,\n",
        "    MetaData,\n",
        "    Table,\n",
        "    Column,\n",
        "    String,\n",
        "    Integer,\n",
        "    select,\n",
        "    column,\n",
        ")\n",
        "\n",
        "engine = create_engine(\"sqlite:///chinook.db\")\n",
        "sql_database = SQLDatabase(engine)"
      ]
    },
    {
      "cell_type": "code",
      "execution_count": null,
      "metadata": {
        "id": "hl723NLhc6sH"
      },
      "outputs": [],
      "source": [
        "from llama_index.core.query_pipeline import QueryPipeline"
      ]
    },
    {
      "cell_type": "code",
      "execution_count": null,
      "metadata": {},
      "outputs": [],
      "source": [
        "!curl \"https://www.sqlitetutorial.net/wp-content/uploads/2018/03/chinook.zip\" -O ./chinook.zip\n",
        "!unzip -o ./chinook.zip"
      ]
    },
    {
      "cell_type": "code",
      "execution_count": null,
      "metadata": {
        "id": "XiobSgqQevmz"
      },
      "outputs": [],
      "source": [
        "# define global callback setting\n",
        "from llama_index.core.settings import Settings\n",
        "from llama_index.core.callbacks import CallbackManager\n",
        "\n",
        "callback_manager = CallbackManager()\n",
        "Settings.callback_manager = callback_manager"
      ]
    },
    {
      "cell_type": "markdown",
      "metadata": {},
      "source": [
        "# [OPTIONAL] We setup Arize Phoenix for observability."
      ]
    },
    {
      "cell_type": "markdown",
      "metadata": {
        "id": "kg_U0cGxq2n0"
      },
      "source": [
        "The code runner will ask you:\n",
        "\n",
        "\n",
        "---\n",
        "\n",
        "\n",
        "WARNING: The following packages were previously imported in this runtime:\n",
        "  [Cython,cython]\n",
        "\n",
        "\n",
        "---\n",
        "\n",
        "Press 'Cancel', don't press 'Restart'"
      ]
    },
    {
      "cell_type": "code",
      "execution_count": null,
      "metadata": {
        "colab": {
          "base_uri": "https://localhost:8080/",
          "height": 1000
        },
        "id": "lBTnGoVNe9hq",
        "outputId": "5d223c54-1a78-499e-d221-023cca70aabb"
      },
      "outputs": [],
      "source": [
        "!pip install arize-phoenix"
      ]
    },
    {
      "cell_type": "code",
      "execution_count": null,
      "metadata": {
        "colab": {
          "base_uri": "https://localhost:8080/"
        },
        "id": "PgD2UiDgmjSG",
        "outputId": "dd11c529-699f-4a28-f368-29a3a571a953"
      },
      "outputs": [],
      "source": [
        "!pip install llama-index-callbacks-arize-phoenix"
      ]
    },
    {
      "cell_type": "code",
      "execution_count": null,
      "metadata": {
        "colab": {
          "base_uri": "https://localhost:8080/",
          "height": 69
        },
        "id": "lKL7oXs9ez8n",
        "outputId": "dff8fe07-618a-4aa1-d690-51392096bdde"
      },
      "outputs": [],
      "source": [
        "# setup Arize Phoenix for logging/observability\n",
        "import phoenix as px\n",
        "import llama_index.core\n",
        "\n",
        "px.launch_app()\n",
        "llama_index.core.set_global_handler(\"arize_phoenix\")"
      ]
    },
    {
      "cell_type": "code",
      "execution_count": null,
      "metadata": {
        "colab": {
          "base_uri": "https://localhost:8080/"
        },
        "id": "sa7CQNjzwpSh",
        "outputId": "5754973b-8e0d-4ca0-c099-4bd3628b017f"
      },
      "outputs": [],
      "source": [
        "!pip install openai"
      ]
    },
    {
      "cell_type": "markdown",
      "metadata": {},
      "source": [
        "### Insert your OPENAI API KEY below"
      ]
    },
    {
      "cell_type": "code",
      "execution_count": null,
      "metadata": {},
      "outputs": [],
      "source": [
        "import os"
      ]
    },
    {
      "cell_type": "markdown",
      "metadata": {},
      "source": [
        "option 1, using .env"
      ]
    },
    {
      "cell_type": "code",
      "execution_count": null,
      "metadata": {
        "id": "ipv8aHfRwpDr"
      },
      "outputs": [],
      "source": [
        "from dotenv import load_dotenv\n",
        "load_dotenv() \n",
        "openai_api_key = os.getenv(\"OPENAI_API_KEY\")\n",
        "os.environ[\"OPENAI_API_KEY\"] = openai_api_key"
      ]
    },
    {
      "cell_type": "markdown",
      "metadata": {},
      "source": [
        "option 2, using api key directly in the notebook (not recommended)"
      ]
    },
    {
      "cell_type": "code",
      "execution_count": null,
      "metadata": {},
      "outputs": [],
      "source": [
        "os.environ[\"OPENAI_API_KEY\"] = \"sk-...\""
      ]
    },
    {
      "cell_type": "markdown",
      "metadata": {
        "id": "BDRYzOJMxHpS"
      },
      "source": [
        "# Setup Text-to-SQL Query Engine / Tool\n",
        "Now we setup a simple text-to-SQL tool: given a query, translate text to SQL, execute against database, and get back a result."
      ]
    },
    {
      "cell_type": "code",
      "execution_count": null,
      "metadata": {},
      "outputs": [],
      "source": [
        "from sqlalchemy import create_engine\n",
        "from llama_index.core import SQLDatabase\n",
        "\n",
        "# Create an engine instance\n",
        "engine = create_engine(\"sqlite:///chinook.db\")\n",
        "\n",
        "# Initialize SQLDatabase with the engine\n",
        "sql_database = SQLDatabase(engine)"
      ]
    },
    {
      "cell_type": "code",
      "execution_count": null,
      "metadata": {
        "id": "r5stQeivvVw9"
      },
      "outputs": [],
      "source": [
        "from llama_index.core.query_engine import NLSQLTableQueryEngine\n",
        "from llama_index.core.tools import QueryEngineTool\n",
        "\n",
        "sql_query_engine = NLSQLTableQueryEngine(\n",
        "    sql_database=sql_database,\n",
        "    tables=[\"albums\", \"tracks\", \"artists\"],\n",
        "    verbose=True,\n",
        ")\n",
        "sql_tool = QueryEngineTool.from_defaults(\n",
        "    query_engine=sql_query_engine,\n",
        "    name=\"sql_tool\",\n",
        "    description=(\n",
        "        \"Useful for translating a natural language query into a SQL query\"\n",
        "    ),\n",
        ")"
      ]
    },
    {
      "cell_type": "markdown",
      "metadata": {
        "id": "uo_ZCIbcxPNa"
      },
      "source": [
        "# Setup ReAct Agent Pipeline"
      ]
    },
    {
      "cell_type": "markdown",
      "metadata": {
        "id": "H8ebq8tGxRA0"
      },
      "source": [
        "We now setup a ReAct pipeline for a single step using our Query Pipeline syntax. This is a multi-part process that does the following:\n",
        "\n",
        "Takes in agent inputs\n",
        "\n",
        "Calls ReAct prompt using LLM to generate next action/tool (or returns a response).\n",
        "\n",
        "If tool/action is selected, call tool pipeline to execute tool + collect response.\n",
        "\n",
        "If response is generated, get response.\n",
        "\n",
        "Throughout this we’ll use a variety of agent-specific query components. Unlike normal query pipelines, these are specifically designed for query pipelines that are used in a QueryPipelineAgentWorker:\n",
        "\n",
        "An AgentInputComponent that allows you to convert the agent inputs (Task, state dictionary) into a set of inputs for the query pipeline.\n",
        "\n",
        "An AgentFnComponent: a general processor that allows you to take in the current Task, state, as well as any arbitrary inputs, and returns an output. In this cookbook we define a function component to format the ReAct prompt. However, you can put this anywhere.\n",
        "\n",
        "[Not used in this notebook] An CustomAgentComponent: similar to AgentFnComponent, you can implement _run_component to define your own logic, with access to Task and state. It is more verbose but more flexible than AgentFnComponent (e.g. you can define init variables, and callbacks are in the base class).\n",
        "\n",
        "Note that any function passed into AgentFnComponent and AgentInputComponent MUST include task and state as input variables, as these are inputs passed from the agent.\n",
        "\n",
        "Note that the output of an agentic query pipeline MUST be Tuple[AgentChatResponse, bool]. You’ll see this below."
      ]
    },
    {
      "cell_type": "code",
      "execution_count": null,
      "metadata": {
        "id": "Luqp-LA82L4s"
      },
      "outputs": [],
      "source": [
        "from llama_index.core.query_pipeline import QueryPipeline as QP\n",
        "\n",
        "qp = QP(verbose=True)"
      ]
    },
    {
      "cell_type": "markdown",
      "metadata": {
        "id": "-MbmNr28xWhY"
      },
      "source": [
        "**Define Agent Input Component**\n",
        "\n",
        "Here we define the agent input component, called at the beginning of every agent step. Besides passing along the input, we also do initialization/state modification."
      ]
    },
    {
      "cell_type": "code",
      "execution_count": null,
      "metadata": {
        "id": "RgwXuhEhXhuQ"
      },
      "outputs": [],
      "source": [
        "from llama_index.core.agent.react.types import (\n",
        "    ActionReasoningStep,\n",
        "    ObservationReasoningStep,\n",
        "    ResponseReasoningStep,\n",
        ")\n",
        "from llama_index.core.agent import Task, AgentChatResponse\n",
        "from llama_index.core.query_pipeline import (\n",
        "    AgentInputComponent,\n",
        "    AgentFnComponent,\n",
        "    CustomAgentComponent,\n",
        "    QueryComponent,\n",
        "    ToolRunnerComponent,\n",
        ")\n",
        "from llama_index.core.llms import MessageRole\n",
        "from typing import Dict, Any, Optional, Tuple, List, cast\n",
        "\n",
        "\n",
        "## Agent Input Component\n",
        "## This is the component that produces agent inputs to the rest of the components\n",
        "## Can also put initialization logic here.\n",
        "def agent_input_fn(task: Task, state: Dict[str, Any]) -> Dict[str, Any]:\n",
        "    \"\"\"Agent input function.\n",
        "\n",
        "    Returns:\n",
        "        A Dictionary of output keys and values. If you are specifying\n",
        "        src_key when defining links between this component and other\n",
        "        components, make sure the src_key matches the specified output_key.\n",
        "\n",
        "    \"\"\"\n",
        "    # initialize current_reasoning\n",
        "    if \"current_reasoning\" not in state:\n",
        "        state[\"current_reasoning\"] = []\n",
        "    reasoning_step = ObservationReasoningStep(observation=task.input)\n",
        "    state[\"current_reasoning\"].append(reasoning_step)\n",
        "    return {\"input\": task.input}\n",
        "\n",
        "\n",
        "agent_input_component = AgentInputComponent(fn=agent_input_fn)"
      ]
    },
    {
      "cell_type": "markdown",
      "metadata": {
        "id": "jlHVr5Z4xb-H"
      },
      "source": [
        "**Define Agent Prompt**\n",
        "\n",
        "Here we define the agent component that generates a ReAct prompt, and after the output is generated from the LLM, parses into a structured object."
      ]
    },
    {
      "cell_type": "code",
      "execution_count": null,
      "metadata": {
        "id": "9GB-3O7kewxo"
      },
      "outputs": [],
      "source": [
        "from llama_index.core.agent import ReActChatFormatter\n",
        "from llama_index.core.query_pipeline import InputComponent, Link\n",
        "from llama_index.core.llms import ChatMessage\n",
        "from llama_index.core.tools import BaseTool\n",
        "\n",
        "\n",
        "## define prompt function\n",
        "def react_prompt_fn(\n",
        "    task: Task, state: Dict[str, Any], input: str, tools: List[BaseTool]\n",
        ") -> List[ChatMessage]:\n",
        "    # Add input to reasoning\n",
        "    chat_formatter = ReActChatFormatter()\n",
        "    return chat_formatter.format(\n",
        "        tools,\n",
        "        chat_history=task.memory.get() + state[\"memory\"].get_all(),\n",
        "        current_reasoning=state[\"current_reasoning\"],\n",
        "    )\n",
        "\n",
        "\n",
        "react_prompt_component = AgentFnComponent(\n",
        "    fn=react_prompt_fn, partial_dict={\"tools\": [sql_tool]}\n",
        ")"
      ]
    },
    {
      "cell_type": "markdown",
      "metadata": {
        "id": "UaC55LDdxgWz"
      },
      "source": [
        "**Define Agent Output Parser + Tool Pipeline**\n",
        "\n",
        "Once the LLM gives an output, we have a decision tree:\n",
        "\n",
        "1. If an answer is given, then we’re done. Process the output\n",
        "\n",
        "2. If an action is given, we need to execute the specified tool with the specified args, and then process the output.\n",
        "\n",
        "Tool calling can be done via the ToolRunnerComponent module. This is a simple wrapper module that takes in a list of tools, and can be “executed” with the specified tool name (every tool has a name) and tool action.\n",
        "\n",
        "We implement this overall module OutputAgentComponent that subclasses CustomAgentComponent.\n",
        "\n",
        "Note: we also implement sub_query_components to pass through higher-level callback managers to the tool runner submodule."
      ]
    },
    {
      "cell_type": "code",
      "execution_count": null,
      "metadata": {
        "id": "wrhuKiBAij-A"
      },
      "outputs": [],
      "source": [
        "from typing import Set, Optional\n",
        "from llama_index.core.agent.react.output_parser import ReActOutputParser\n",
        "from llama_index.core.llms import ChatResponse\n",
        "from llama_index.core.agent.types import Task\n",
        "\n",
        "\n",
        "def parse_react_output_fn(\n",
        "    task: Task, state: Dict[str, Any], chat_response: ChatResponse\n",
        "):\n",
        "    \"\"\"Parse ReAct output into a reasoning step.\"\"\"\n",
        "    output_parser = ReActOutputParser()\n",
        "    reasoning_step = output_parser.parse(chat_response.message.content)\n",
        "    return {\"done\": reasoning_step.is_done, \"reasoning_step\": reasoning_step}\n",
        "\n",
        "\n",
        "parse_react_output = AgentFnComponent(fn=parse_react_output_fn)\n",
        "\n",
        "\n",
        "def run_tool_fn(\n",
        "    task: Task, state: Dict[str, Any], reasoning_step: ActionReasoningStep\n",
        "):\n",
        "    \"\"\"Run tool and process tool output.\"\"\"\n",
        "    tool_runner_component = ToolRunnerComponent(\n",
        "        [sql_tool], callback_manager=task.callback_manager\n",
        "    )\n",
        "    tool_output = tool_runner_component.run_component(\n",
        "        tool_name=reasoning_step.action,\n",
        "        tool_input=reasoning_step.action_input,\n",
        "    )\n",
        "    observation_step = ObservationReasoningStep(observation=str(tool_output))\n",
        "    state[\"current_reasoning\"].append(observation_step)\n",
        "    # TODO: get output\n",
        "\n",
        "    return {\"response_str\": observation_step.get_content(), \"is_done\": False}\n",
        "\n",
        "\n",
        "run_tool = AgentFnComponent(fn=run_tool_fn)\n",
        "\n",
        "\n",
        "def process_response_fn(\n",
        "    task: Task, state: Dict[str, Any], response_step: ResponseReasoningStep\n",
        "):\n",
        "    \"\"\"Process response.\"\"\"\n",
        "    state[\"current_reasoning\"].append(response_step)\n",
        "    response_str = response_step.response\n",
        "    # Now that we're done with this step, put into memory\n",
        "    state[\"memory\"].put(ChatMessage(content=task.input, role=MessageRole.USER))\n",
        "    state[\"memory\"].put(\n",
        "        ChatMessage(content=response_str, role=MessageRole.ASSISTANT)\n",
        "    )\n",
        "\n",
        "    return {\"response_str\": response_str, \"is_done\": True}\n",
        "\n",
        "\n",
        "process_response = AgentFnComponent(fn=process_response_fn)\n",
        "\n",
        "\n",
        "def process_agent_response_fn(\n",
        "    task: Task, state: Dict[str, Any], response_dict: dict\n",
        "):\n",
        "    \"\"\"Process agent response.\"\"\"\n",
        "    return (\n",
        "        AgentChatResponse(response_dict[\"response_str\"]),\n",
        "        response_dict[\"is_done\"],\n",
        "    )\n",
        "\n",
        "\n",
        "process_agent_response = AgentFnComponent(fn=process_agent_response_fn)"
      ]
    },
    {
      "cell_type": "markdown",
      "metadata": {
        "id": "K_i6I5ZoxoGf"
      },
      "source": [
        "**Stitch together Agent Query Pipeline**\n",
        "\n",
        "We can now stitch together the top-level agent pipeline: agent_input -> react_prompt -> llm -> react_output.\n",
        "\n",
        "The last component is the if-else component that calls sub-components."
      ]
    },
    {
      "cell_type": "code",
      "execution_count": null,
      "metadata": {
        "id": "PCuP6uqVoMpQ"
      },
      "outputs": [],
      "source": [
        "from llama_index.core.query_pipeline import QueryPipeline as QP\n",
        "from llama_index.llms.openai import OpenAI\n",
        "\n",
        "qp.add_modules(\n",
        "    {\n",
        "        \"agent_input\": agent_input_component,\n",
        "        \"react_prompt\": react_prompt_component,\n",
        "        \"llm\": OpenAI(model=\"gpt-4-1106-preview\"),\n",
        "        \"react_output_parser\": parse_react_output,\n",
        "        \"run_tool\": run_tool,\n",
        "        \"process_response\": process_response,\n",
        "        \"process_agent_response\": process_agent_response,\n",
        "    }\n",
        ")"
      ]
    },
    {
      "cell_type": "code",
      "execution_count": null,
      "metadata": {
        "id": "I_Q_1lYjoOGr"
      },
      "outputs": [],
      "source": [
        "# link input to react prompt to parsed out response (either tool action/input or observation)\n",
        "qp.add_chain([\"agent_input\", \"react_prompt\", \"llm\", \"react_output_parser\"])\n",
        "\n",
        "# add conditional link from react output to tool call (if not done)\n",
        "qp.add_link(\n",
        "    \"react_output_parser\",\n",
        "    \"run_tool\",\n",
        "    condition_fn=lambda x: not x[\"done\"],\n",
        "    input_fn=lambda x: x[\"reasoning_step\"],\n",
        ")\n",
        "# add conditional link from react output to final response processing (if done)\n",
        "qp.add_link(\n",
        "    \"react_output_parser\",\n",
        "    \"process_response\",\n",
        "    condition_fn=lambda x: x[\"done\"],\n",
        "    input_fn=lambda x: x[\"reasoning_step\"],\n",
        ")\n",
        "\n",
        "# whether response processing or tool output processing, add link to final agent response\n",
        "qp.add_link(\"process_response\", \"process_agent_response\")\n",
        "qp.add_link(\"run_tool\", \"process_agent_response\")"
      ]
    },
    {
      "cell_type": "markdown",
      "metadata": {
        "id": "3sgnTcTDxuIj"
      },
      "source": [
        "# [OPTIONAL] Visualize Query Pipeline"
      ]
    },
    {
      "cell_type": "code",
      "execution_count": null,
      "metadata": {
        "colab": {
          "base_uri": "https://localhost:8080/"
        },
        "id": "JAlOWcz2o5YM",
        "outputId": "272f13c4-a5ce-46b7-a148-d44b7d6d4051"
      },
      "outputs": [],
      "source": [
        "!pip install pyvis"
      ]
    },
    {
      "cell_type": "code",
      "execution_count": null,
      "metadata": {
        "colab": {
          "base_uri": "https://localhost:8080/"
        },
        "id": "uHx-esfNpajL",
        "outputId": "213af71b-b75a-4e3e-db1d-b4bc2b512e2b"
      },
      "outputs": [],
      "source": [
        "!pip install ipywidgets"
      ]
    },
    {
      "cell_type": "code",
      "execution_count": null,
      "metadata": {
        "colab": {
          "base_uri": "https://localhost:8080/",
          "height": 777
        },
        "id": "GjEFb8cSo2hs",
        "outputId": "d8c0b9aa-027a-4f8e-9daa-4601d2a37e13"
      },
      "outputs": [],
      "source": [
        "from pyvis.network import Network\n",
        "from IPython.display import HTML\n",
        "\n",
        "net = Network(notebook=True, height=\"750px\", width=\"100%\", cdn_resources='in_line')\n",
        "net.from_nx(qp.clean_dag)\n",
        "net.save_graph(\"agent_dag.html\")\n",
        "HTML(filename=\"agent_dag.html\")"
      ]
    },
    {
      "cell_type": "markdown",
      "metadata": {
        "id": "MZClGIppuhlq"
      },
      "source": [
        "# Setup Agent Worker around Text-to-SQL Query Pipeline\n",
        "This is our way to setup an agent around a text-to-SQL Query Pipeline"
      ]
    },
    {
      "cell_type": "code",
      "execution_count": null,
      "metadata": {
        "id": "6ueIFU6Numww"
      },
      "outputs": [],
      "source": [
        "from llama_index.core.agent import QueryPipelineAgentWorker, AgentRunner\n",
        "from llama_index.core.callbacks import CallbackManager\n",
        "\n",
        "agent_worker = QueryPipelineAgentWorker(qp)\n",
        "agent = AgentRunner(\n",
        "    agent_worker, callback_manager=CallbackManager([]), verbose=True\n",
        ")"
      ]
    },
    {
      "cell_type": "code",
      "execution_count": null,
      "metadata": {
        "colab": {
          "base_uri": "https://localhost:8080/"
        },
        "id": "dRG0nPht57OB",
        "outputId": "37f28168-0db8-41ba-d69f-7dbc53f478c2"
      },
      "outputs": [],
      "source": [
        "!pip install sqlalchemy"
      ]
    },
    {
      "cell_type": "code",
      "execution_count": null,
      "metadata": {
        "id": "RLZB3pMT6IYh"
      },
      "outputs": [],
      "source": [
        "import sqlalchemy"
      ]
    },
    {
      "cell_type": "markdown",
      "metadata": {
        "id": "UESA81ho4tFL"
      },
      "source": [
        "# Run the Agent"
      ]
    },
    {
      "cell_type": "markdown",
      "metadata": {},
      "source": [
        "Let's double check that the agent is running"
      ]
    },
    {
      "cell_type": "code",
      "execution_count": null,
      "metadata": {
        "colab": {
          "base_uri": "https://localhost:8080/"
        },
        "id": "vQZKQTx66UKL",
        "outputId": "3a139e3d-bfb7-46b7-ed26-e713db2bb3e9"
      },
      "outputs": [],
      "source": [
        "print(agent)"
      ]
    },
    {
      "cell_type": "markdown",
      "metadata": {},
      "source": [
        "When running the next cell ideally what you should see is:\n",
        "> Running step 37e2312b-540b-4c79-9261-15318d4796d9. Step input: None\n",
        "> Running module agent_input with input: \n",
        "state: {'sources': [], 'memory': ChatMemoryBuffer(token_limit=3000, tokenizer_fn=functools.partial(<bound method Encoding.encode of <Encoding 'cl100k_base'>>, allowed_special='all'), chat_store=SimpleChatSto...\n",
        "task: task_id='b9b747a7-880f-4e91-9eed-b64574cbb6d0' input='What are some tracks from the artist AC/DC? Limit it to 3' memory=ChatMemoryBuffer(token_limit=3000, tokenizer_fn=functools.partial(<bound method ...\n",
        "\n",
        "> Running module react_prompt with input: \n",
        "input: What are some tracks from the artist AC/DC? Limit it to 3\n",
        "\n",
        "> Running module llm with input: \n",
        "messages: [ChatMessage(role=<MessageRole.SYSTEM: 'system'>, content='\\nYou are designed to help with a variety of tasks, from answering questions     to providing summaries to other types of analyses.\\n\\n## Too...\n",
        "\n",
        "> Running module react_output_parser with input: \n",
        "chat_response: assistant: Thought: The user has repeated the request, possibly due to not noticing the previous response. I will provide the information again.\n",
        "\n",
        "Answer: The top 3 tracks by AC/DC are \"For Those About...\n",
        "\n",
        "> Running module process_response with input: \n",
        "response_step: thought='The user has repeated the request, possibly due to not noticing the previous response. I will provide the information again.' response='The top 3 tracks by AC/DC are \"For Those About To Rock ...\n",
        "\n",
        "> Running module process_agent_response with input: \n",
        "response_dict: {'response_str': 'The top 3 tracks by AC/DC are \"For Those About To Rock (We Salute You)\", \"Put The Finger On You\", and \"Let\\'s Get It Up\".', 'is_done': True}\n"
      ]
    },
    {
      "cell_type": "code",
      "execution_count": null,
      "metadata": {
        "colab": {
          "base_uri": "https://localhost:8080/",
          "height": 689
        },
        "id": "l_hoWZAg4spm",
        "outputId": "a7d25b2f-c2db-4175-809f-3667e3a53f47"
      },
      "outputs": [],
      "source": [
        "\n",
        "# start task\n",
        "task = agent.create_task(\n",
        "    \"What are some tracks from the artist AC/DC? Limit it to 3\"\n",
        ")\n",
        "step_output = agent.run_step(task.task_id)"
      ]
    },
    {
      "cell_type": "markdown",
      "metadata": {},
      "source": [
        "Let's run it again just to make sure it works properly"
      ]
    },
    {
      "cell_type": "code",
      "execution_count": null,
      "metadata": {
        "colab": {
          "base_uri": "https://localhost:8080/",
          "height": 304
        },
        "id": "rPxpSSmdzKu9",
        "outputId": "51564110-9509-43dd-a4c4-e4a626ac663d"
      },
      "outputs": [],
      "source": [
        "step_output = agent.run_step(task.task_id)"
      ]
    },
    {
      "cell_type": "code",
      "execution_count": null,
      "metadata": {
        "colab": {
          "base_uri": "https://localhost:8080/",
          "height": 141
        },
        "id": "uUb4Unw2zUDQ",
        "outputId": "95ede7a5-bd17-4f8e-b700-ac0cf8bb87d2"
      },
      "outputs": [],
      "source": [
        "step_output.is_last"
      ]
    },
    {
      "cell_type": "code",
      "execution_count": null,
      "metadata": {},
      "outputs": [],
      "source": [
        "response = agent.finalize_response(task.task_id)\n",
        "print(str(response))"
      ]
    },
    {
      "cell_type": "markdown",
      "metadata": {},
      "source": [
        "Let's reset agent and test it again from start to finish"
      ]
    },
    {
      "cell_type": "code",
      "execution_count": null,
      "metadata": {
        "colab": {
          "base_uri": "https://localhost:8080/",
          "height": 723
        },
        "id": "_zwj-BRSz6w6",
        "outputId": "cd09d74b-609e-4dd6-c252-ae3cf03e33d6"
      },
      "outputs": [],
      "source": [
        "# run this e2e\n",
        "agent.reset()\n",
        "response = agent.chat(\n",
        "    \"What are some tracks from the artist AC/DC? Limit it to 3\"\n",
        ")"
      ]
    },
    {
      "cell_type": "code",
      "execution_count": null,
      "metadata": {},
      "outputs": [],
      "source": [
        "print(str(response))"
      ]
    },
    {
      "cell_type": "markdown",
      "metadata": {},
      "source": [
        "The top three tracks by AC/DC are \"For Those About To Rock (We Salute You)\", \"Put The Finger On You\", and \"Let's Get It Up\"."
      ]
    },
    {
      "cell_type": "markdown",
      "metadata": {},
      "source": [
        "# Setup Simple Retry Agent Pipeline for Text-to-SQL"
      ]
    },
    {
      "cell_type": "markdown",
      "metadata": {},
      "source": [
        "Instead of the full ReAct pipeline that does tool picking, let’s try a much simpler agent pipeline that only does text-to-SQL, with retry-logic.\n",
        "\n",
        "We try a simple text-based “retry” prompt where given the user input and previous conversation history, can generate a modified query that outputs the right result."
      ]
    },
    {
      "cell_type": "markdown",
      "metadata": {},
      "source": [
        "## Define Core Modules"
      ]
    },
    {
      "cell_type": "markdown",
      "metadata": {},
      "source": [
        "- agent input\n",
        "- retry prompt\n",
        "- output processor (including a validation prompt)"
      ]
    },
    {
      "cell_type": "markdown",
      "metadata": {},
      "source": [
        "Choose a model you want to use"
      ]
    },
    {
      "cell_type": "code",
      "execution_count": null,
      "metadata": {},
      "outputs": [],
      "source": [
        "from llama_index.llms.openai import OpenAI\n",
        "\n",
        "# llm = OpenAI(model=\"gpt-3.5-turbo\")\n",
        "llm = OpenAI(model=\"gpt-4-1106-preview\")"
      ]
    },
    {
      "cell_type": "markdown",
      "metadata": {},
      "source": [
        "Let's initialize reasoning step"
      ]
    },
    {
      "cell_type": "code",
      "execution_count": null,
      "metadata": {},
      "outputs": [],
      "source": [
        "from llama_index.core.agent import Task, AgentChatResponse\n",
        "from typing import Dict, Any\n",
        "from llama_index.core.query_pipeline import (\n",
        "    AgentInputComponent,\n",
        "    AgentFnComponent,\n",
        ")\n",
        "\n",
        "\n",
        "def agent_input_fn(task: Task, state: Dict[str, Any]) -> Dict:\n",
        "    \"\"\"Agent input function.\"\"\"\n",
        "    # initialize current_reasoning\n",
        "    if \"convo_history\" not in state:\n",
        "        state[\"convo_history\"] = []\n",
        "        state[\"count\"] = 0\n",
        "    state[\"convo_history\"].append(f\"User: {task.input}\")\n",
        "    convo_history_str = \"\\n\".join(state[\"convo_history\"]) or \"None\"\n",
        "    return {\"input\": task.input, \"convo_history\": convo_history_str}\n",
        "\n",
        "\n",
        "agent_input_component = AgentInputComponent(fn=agent_input_fn)\n"
      ]
    },
    {
      "cell_type": "markdown",
      "metadata": {},
      "source": [
        "Let's create a natural lanaguage query to be converted into SQL query later based on a user input"
      ]
    },
    {
      "cell_type": "code",
      "execution_count": null,
      "metadata": {},
      "outputs": [],
      "source": [
        "from llama_index.core import PromptTemplate\n",
        "\n",
        "retry_prompt_str = \"\"\"\\\n",
        "You are trying to generate a proper natural language query given a user input.\n",
        "\n",
        "This query will then be interpreted by a downstream text-to-SQL agent which\n",
        "will convert the query to a SQL statement. If the agent triggers an error,\n",
        "then that will be reflected in the current conversation history (see below).\n",
        "\n",
        "If the conversation history is None, use the user input. If its not None,\n",
        "generate a new SQL query that avoids the problems of the previous SQL query.\n",
        "\n",
        "Input: {input}\n",
        "Convo history (failed attempts): \n",
        "{convo_history}\n",
        "\n",
        "New input: \"\"\"\n",
        "retry_prompt = PromptTemplate(retry_prompt_str)"
      ]
    },
    {
      "cell_type": "markdown",
      "metadata": {},
      "source": [
        "Validate if SQL response is answering the prompt or we should continue iterating"
      ]
    },
    {
      "cell_type": "code",
      "execution_count": null,
      "metadata": {},
      "outputs": [],
      "source": [
        "from llama_index.core import Response\n",
        "from typing import Tuple\n",
        "\n",
        "validate_prompt_str = \"\"\"\\\n",
        "Given the user query, validate whether the inferred SQL query and response from executing the query is correct and answers the query.\n",
        "\n",
        "Answer with YES or NO.\n",
        "\n",
        "Query: {input}\n",
        "Inferred SQL query: {sql_query}\n",
        "SQL Response: {sql_response}\n",
        "\n",
        "Result: \"\"\"\n",
        "validate_prompt = PromptTemplate(validate_prompt_str)\n",
        "\n",
        "MAX_ITER = 3\n",
        "\n",
        "\n",
        "def agent_output_fn(\n",
        "    task: Task, state: Dict[str, Any], output: Response\n",
        ") -> Tuple[AgentChatResponse, bool]:\n",
        "    \"\"\"Agent output component.\"\"\"\n",
        "    print(f\"> Inferred SQL Query: {output.metadata['sql_query']}\")\n",
        "    print(f\"> SQL Response: {str(output)}\")\n",
        "    state[\"convo_history\"].append(\n",
        "        f\"Assistant (inferred SQL query): {output.metadata['sql_query']}\"\n",
        "    )\n",
        "    state[\"convo_history\"].append(f\"Assistant (response): {str(output)}\")\n",
        "\n",
        "    # run a mini chain to get response\n",
        "    validate_prompt_partial = validate_prompt.as_query_component(\n",
        "        partial={\n",
        "            \"sql_query\": output.metadata[\"sql_query\"],\n",
        "            \"sql_response\": str(output),\n",
        "        }\n",
        "    )\n",
        "    qp = QP(chain=[validate_prompt_partial, llm])\n",
        "    validate_output = qp.run(input=task.input)\n",
        "\n",
        "    state[\"count\"] += 1\n",
        "    is_done = False\n",
        "    if state[\"count\"] >= MAX_ITER:\n",
        "        is_done = True\n",
        "    if \"YES\" in validate_output.message.content:\n",
        "        is_done = True\n",
        "\n",
        "    return AgentChatResponse(response=str(output)), is_done\n",
        "\n",
        "\n",
        "agent_output_component = AgentFnComponent(fn=agent_output_fn)"
      ]
    },
    {
      "cell_type": "markdown",
      "metadata": {},
      "source": [
        "Let's stich it together"
      ]
    },
    {
      "cell_type": "code",
      "execution_count": null,
      "metadata": {},
      "outputs": [],
      "source": [
        "from llama_index.core.query_pipeline import (\n",
        "    QueryPipeline as QP,\n",
        "    Link,\n",
        "    InputComponent,\n",
        ")\n",
        "\n",
        "qp = QP(\n",
        "    modules={\n",
        "        \"input\": agent_input_component,\n",
        "        \"retry_prompt\": retry_prompt,\n",
        "        \"llm\": llm,\n",
        "        \"sql_query_engine\": sql_query_engine,\n",
        "        \"output_component\": agent_output_component,\n",
        "    },\n",
        "    verbose=True,\n",
        ")\n",
        "qp.add_link(\"input\", \"retry_prompt\", src_key=\"input\", dest_key=\"input\")\n",
        "qp.add_link(\n",
        "    \"input\", \"retry_prompt\", src_key=\"convo_history\", dest_key=\"convo_history\"\n",
        ")\n",
        "qp.add_chain([\"retry_prompt\", \"llm\", \"sql_query_engine\", \"output_component\"])"
      ]
    },
    {
      "cell_type": "markdown",
      "metadata": {},
      "source": [
        "## Visualize Query Pipeline"
      ]
    },
    {
      "cell_type": "code",
      "execution_count": null,
      "metadata": {},
      "outputs": [],
      "source": [
        "from pyvis.network import Network\n",
        "\n",
        "net = Network(notebook=True, cdn_resources=\"in_line\", directed=True)\n",
        "net.from_nx(qp.dag)\n",
        "net.show(\"agent_dag.html\")"
      ]
    },
    {
      "cell_type": "markdown",
      "metadata": {},
      "source": [
        "## Define Agent Worker"
      ]
    },
    {
      "cell_type": "code",
      "execution_count": null,
      "metadata": {},
      "outputs": [],
      "source": [
        "from llama_index.core.agent import QueryPipelineAgentWorker, AgentRunner\n",
        "from llama_index.core.callbacks import CallbackManager\n",
        "\n",
        "# callback manager is passed from query pipeline to agent worker/agent\n",
        "agent_worker = QueryPipelineAgentWorker(qp)\n",
        "agent = AgentRunner(\n",
        "    agent_worker, callback_manager=CallbackManager(), verbose=False\n",
        ")"
      ]
    },
    {
      "cell_type": "code",
      "execution_count": null,
      "metadata": {},
      "outputs": [],
      "source": [
        "response = agent.chat(\n",
        "    \"How many albums did the artist who wrote 'Restless and Wild' release? (answer should be non-zero)?\"\n",
        ")\n",
        "print(str(response))\n",
        "   "
      ]
    },
    {
      "cell_type": "markdown",
      "metadata": {},
      "source": [
        "You should see this:\n",
        "\n",
        "> Running module input with input: \n",
        "state: {'sources': [], 'memory': ChatMemoryBuffer(token_limit=3000, tokenizer_fn=functools.partial(<bound method Encoding.encode of <Encoding 'cl100k_base'>>, allowed_special='all'), chat_store=SimpleChatSto...\n",
        "task: task_id='2d8a63de-7410-4422-98f3-f0ca41884f58' input=\"How many albums did the artist who wrote 'Restless and Wild' release? (answer should be non-zero)?\" memory=ChatMemoryBuffer(token_limit=3000, toke...\n",
        "\n",
        "> Running module retry_prompt with input: \n",
        "input: How many albums did the artist who wrote 'Restless and Wild' release? (answer should be non-zero)?\n",
        "convo_history: User: How many albums did the artist who wrote 'Restless and Wild' release? (answer should be non-zero)?\n",
        "\n",
        "> Running module llm with input: \n",
        "messages: You are trying to generate a proper natural language query given a user input.\n",
        "\n",
        "This query will then be interpreted by a downstream text-to-SQL agent which\n",
        "will convert the query to a SQL statement. I...\n",
        "\n",
        "> Running module sql_query_engine with input: \n",
        "input: assistant: Given the conversation history, it seems that the previous attempt to generate a SQL query from the user's question may have resulted in an error. To avoid the same problem, we need to reph...\n",
        "\n",
        "> Running module output_component with input: \n",
        "output: I'm sorry, but there seems to be an error in the SQL query. The query you provided is invalid SQL. Please double-check the syntax and try again.\n",
        "\n",
        "> Inferred SQL Query: SELECT COUNT(albums.AlbumId) \n",
        "FROM albums \n",
        "JOIN tracks ON albums.AlbumId = tracks.AlbumId \n",
        "WHERE tracks.Name = 'Restless and Wild' \n",
        "AND albums.ArtistId = tracks.Composer \n",
        "AND COUNT(albums.AlbumId) > 0\n",
        "> SQL Response: I'm sorry, but there seems to be an error in the SQL query. The query you provided is invalid SQL. Please double-check the syntax and try again.\n",
        "> Running module input with input: \n",
        "state: {'sources': [], 'memory': ChatMemoryBuffer(token_limit=3000, tokenizer_fn=functools.partial(<bound method Encoding.encode of <Encoding 'cl100k_base'>>, allowed_special='all'), chat_store=SimpleChatSto...\n",
        "task: task_id='2d8a63de-7410-4422-98f3-f0ca41884f58' input=\"How many albums did the artist who wrote 'Restless and Wild' release? (answer should be non-zero)?\" memory=ChatMemoryBuffer(token_limit=3000, toke...\n",
        "\n",
        "> Running module retry_prompt with input: \n",
        "input: How many albums did the artist who wrote 'Restless and Wild' release? (answer should be non-zero)?\n",
        "convo_history: User: How many albums did the artist who wrote 'Restless and Wild' release? (answer should be non-zero)?\n",
        "Assistant (inferred SQL query): SELECT COUNT(albums.AlbumId) \n",
        "FROM albums \n",
        "JOIN tracks ON album...\n",
        "\n",
        "> Running module llm with input: \n",
        "messages: You are trying to generate a proper natural language query given a user input.\n",
        "\n",
        "This query will then be interpreted by a downstream text-to-SQL agent which\n",
        "will convert the query to a SQL statement. I...\n",
        "\n",
        "> Running module sql_query_engine with input: \n",
        "input: assistant: Given the previous error, it seems that the SQL query was incorrect because it attempted to use an aggregate function (`COUNT`) in the `WHERE` clause, which is not allowed. Additionally, th...\n",
        "\n",
        "> Running module output_component with input: \n",
        "output: The number of albums released by the artist who composed the track 'Restless and Wild' is 1.\n",
        "\n",
        "> Inferred SQL Query: SELECT COUNT(DISTINCT albums.AlbumId) AS NumAlbums\n",
        "FROM tracks\n",
        "JOIN albums ON tracks.AlbumId = albums.AlbumId\n",
        "JOIN artists ON albums.ArtistId = artists.ArtistId\n",
        "WHERE tracks.Name = 'Restless and Wild'\n",
        "GROUP BY artists.ArtistId\n",
        "HAVING NumAlbums > 0;\n",
        "> SQL Response: The number of albums released by the artist who composed the track 'Restless and Wild' is 1.\n",
        "> Running module input with input: \n",
        "state: {'sources': [], 'memory': ChatMemoryBuffer(token_limit=3000, tokenizer_fn=functools.partial(<bound method Encoding.encode of <Encoding 'cl100k_base'>>, allowed_special='all'), chat_store=SimpleChatSto...\n",
        "task: task_id='2d8a63de-7410-4422-98f3-f0ca41884f58' input=\"How many albums did the artist who wrote 'Restless and Wild' release? (answer should be non-zero)?\" memory=ChatMemoryBuffer(token_limit=3000, toke...\n",
        "\n",
        "> Running module retry_prompt with input: \n",
        "input: How many albums did the artist who wrote 'Restless and Wild' release? (answer should be non-zero)?\n",
        "convo_history: User: How many albums did the artist who wrote 'Restless and Wild' release? (answer should be non-zero)?\n",
        "Assistant (inferred SQL query): SELECT COUNT(albums.AlbumId) \n",
        "FROM albums \n",
        "JOIN tracks ON album...\n",
        "\n",
        "> Running module llm with input: \n",
        "messages: You are trying to generate a proper natural language query given a user input.\n",
        "\n",
        "This query will then be interpreted by a downstream text-to-SQL agent which\n",
        "will convert the query to a SQL statement. I...\n",
        "\n",
        "> Running module sql_query_engine with input: \n",
        "input: assistant: Given the conversation history, it seems that the previous SQL query was successful in retrieving the number of albums released by the artist who composed the track 'Restless and Wild'. How..."
      ]
    },
    {
      "cell_type": "markdown",
      "metadata": {},
      "source": []
    }
  ],
  "metadata": {
    "colab": {
      "provenance": []
    },
    "kernelspec": {
      "display_name": "Python 3",
      "name": "python3"
    },
    "language_info": {
      "codemirror_mode": {
        "name": "ipython",
        "version": 3
      },
      "file_extension": ".py",
      "mimetype": "text/x-python",
      "name": "python",
      "nbconvert_exporter": "python",
      "pygments_lexer": "ipython3",
      "version": "3.9.13"
    }
  },
  "nbformat": 4,
  "nbformat_minor": 0
}
