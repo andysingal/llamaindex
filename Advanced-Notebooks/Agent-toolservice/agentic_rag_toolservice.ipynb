{
 "cells": [
  {
   "cell_type": "markdown",
   "id": "49814a62-0201-4d41-a449-c2c6b4ad2ced",
   "metadata": {},
   "source": [
    "# Build an Agentic RAG Service\n",
    "\n",
    "Setup an agent service that can interact with a tool service (containing RAG tools over annual reports).\n",
    "\n",
    "In this notebook, we:\n",
    "- Setup our indexes and query engine tools\n",
    "- Define our multi-agent framework\n",
    "  - A message queue.\n",
    "  - An agentic orchestrator.\n",
    "  - A tools service containing our query engine tools. This will act as a remote executor for tools\n",
    "  - Define meta-tools for our agents. These will make calls to the tools service instead of executing directly\n",
    "  - Our agent services. These wrap existing llama-index agents\n",
    "  - Put all this into a local launcher, to simulate one task passing through the system at a time."
   ]
  },
  {
   "cell_type": "code",
   "execution_count": null,
   "id": "e33e5676-8d15-4372-bc32-8d43dd617b80",
   "metadata": {},
   "outputs": [],
   "source": [
    "import nest_asyncio\n",
    "\n",
    "nest_asyncio.apply()\n",
    "\n",
    "import os\n",
    "\n",
    "os.environ[\"OPENAI_API_KEY\"] = \"sk-proj-...\""
   ]
  },
  {
   "cell_type": "markdown",
   "id": "8b4be8b8-3d1c-4a82-98f5-ec94d97a679e",
   "metadata": {},
   "source": [
    "## Load Data"
   ]
  },
  {
   "cell_type": "code",
   "execution_count": null,
   "id": "383d37e8-3887-4a19-bff3-7b58120f0098",
   "metadata": {},
   "outputs": [
    {
     "name": "stdout",
     "output_type": "stream",
     "text": [
      "--2024-06-23 19:34:04--  https://raw.githubusercontent.com/run-llama/llama_index/main/docs/docs/examples/data/10k/uber_2021.pdf\n",
      "Resolving raw.githubusercontent.com (raw.githubusercontent.com)... 185.199.109.133, 185.199.108.133, 185.199.111.133, ...\n",
      "Connecting to raw.githubusercontent.com (raw.githubusercontent.com)|185.199.109.133|:443... connected.\n",
      "HTTP request sent, awaiting response... 200 OK\n",
      "Length: 1880483 (1.8M) [application/octet-stream]\n",
      "Saving to: ‘data/10k/uber_2021.pdf’\n",
      "\n",
      "data/10k/uber_2021. 100%[===================>]   1.79M  7.46MB/s    in 0.2s    \n",
      "\n",
      "2024-06-23 19:34:04 (7.46 MB/s) - ‘data/10k/uber_2021.pdf’ saved [1880483/1880483]\n",
      "\n",
      "--2024-06-23 19:34:05--  https://raw.githubusercontent.com/run-llama/llama_index/main/docs/docs/examples/data/10k/lyft_2021.pdf\n",
      "Resolving raw.githubusercontent.com (raw.githubusercontent.com)... 185.199.108.133, 185.199.111.133, 185.199.109.133, ...\n",
      "Connecting to raw.githubusercontent.com (raw.githubusercontent.com)|185.199.108.133|:443... connected.\n",
      "HTTP request sent, awaiting response... 200 OK\n",
      "Length: 1440303 (1.4M) [application/octet-stream]\n",
      "Saving to: ‘data/10k/lyft_2021.pdf’\n",
      "\n",
      "data/10k/lyft_2021. 100%[===================>]   1.37M  6.22MB/s    in 0.2s    \n",
      "\n",
      "2024-06-23 19:34:05 (6.22 MB/s) - ‘data/10k/lyft_2021.pdf’ saved [1440303/1440303]\n",
      "\n"
     ]
    }
   ],
   "source": [
    "!mkdir -p 'data/10k/'\n",
    "!wget 'https://raw.githubusercontent.com/run-llama/llama_index/main/docs/docs/examples/data/10k/uber_2021.pdf' -O 'data/10k/uber_2021.pdf'\n",
    "!wget 'https://raw.githubusercontent.com/run-llama/llama_index/main/docs/docs/examples/data/10k/lyft_2021.pdf' -O 'data/10k/lyft_2021.pdf'"
   ]
  },
  {
   "cell_type": "code",
   "execution_count": null,
   "id": "1fe13aa4-55f7-4854-b2b7-b3ae02d8df75",
   "metadata": {},
   "outputs": [],
   "source": [
    "from llama_index.core import (\n",
    "    SimpleDirectoryReader,\n",
    "    VectorStoreIndex,\n",
    "    StorageContext,\n",
    "    load_index_from_storage,\n",
    ")\n",
    "\n",
    "from llama_index.core.tools import QueryEngineTool, ToolMetadata"
   ]
  },
  {
   "cell_type": "code",
   "execution_count": null,
   "id": "dc27a6c2-2840-4705-b832-829a18c8571b",
   "metadata": {},
   "outputs": [],
   "source": [
    "try:\n",
    "    storage_context = StorageContext.from_defaults(persist_dir=\"./storage/lyft\")\n",
    "    lyft_index = load_index_from_storage(storage_context)\n",
    "\n",
    "    storage_context = StorageContext.from_defaults(persist_dir=\"./storage/uber\")\n",
    "    uber_index = load_index_from_storage(storage_context)\n",
    "\n",
    "    index_loaded = True\n",
    "except:\n",
    "    index_loaded = False"
   ]
  },
  {
   "cell_type": "code",
   "execution_count": null,
   "id": "d17aba20-d21a-45c2-8c0d-4d7c2f52fc7b",
   "metadata": {},
   "outputs": [],
   "source": [
    "if not index_loaded:\n",
    "    # load data\n",
    "    lyft_docs = SimpleDirectoryReader(\n",
    "        input_files=[\"./data/10k/lyft_2021.pdf\"]\n",
    "    ).load_data()\n",
    "    uber_docs = SimpleDirectoryReader(\n",
    "        input_files=[\"./data/10k/uber_2021.pdf\"]\n",
    "    ).load_data()\n",
    "\n",
    "    # build index\n",
    "    lyft_index = VectorStoreIndex.from_documents(lyft_docs)\n",
    "    uber_index = VectorStoreIndex.from_documents(uber_docs)\n",
    "\n",
    "    # persist index\n",
    "    lyft_index.storage_context.persist(persist_dir=\"./storage/lyft\")\n",
    "    uber_index.storage_context.persist(persist_dir=\"./storage/uber\")"
   ]
  },
  {
   "cell_type": "code",
   "execution_count": null,
   "id": "d2ceb92d-5cb3-415e-aa25-027b5d335ad5",
   "metadata": {},
   "outputs": [],
   "source": [
    "lyft_engine = lyft_index.as_query_engine(similarity_top_k=3)\n",
    "uber_engine = uber_index.as_query_engine(similarity_top_k=3)"
   ]
  },
  {
   "cell_type": "code",
   "execution_count": null,
   "id": "b1358879-1530-4b4e-9204-0ca2ade4ef56",
   "metadata": {},
   "outputs": [],
   "source": [
    "query_engine_tools = [\n",
    "    QueryEngineTool(\n",
    "        query_engine=lyft_engine,\n",
    "        metadata=ToolMetadata(\n",
    "            name=\"lyft_10k\",\n",
    "            description=(\n",
    "                \"Provides information about Lyft financials for year 2021. \"\n",
    "                \"Use a detailed plain text question as input to the tool.\"\n",
    "            ),\n",
    "        ),\n",
    "    ),\n",
    "    QueryEngineTool(\n",
    "        query_engine=uber_engine,\n",
    "        metadata=ToolMetadata(\n",
    "            name=\"uber_10k\",\n",
    "            description=(\n",
    "                \"Provides information about Uber financials for year 2021. \"\n",
    "                \"Use a detailed plain text question as input to the tool.\"\n",
    "            ),\n",
    "        ),\n",
    "    ),\n",
    "]"
   ]
  },
  {
   "cell_type": "markdown",
   "id": "a8ed9ff6-7195-4213-b8a1-38dc06c3b25d",
   "metadata": {},
   "source": [
    "## Setup Agents\n",
    "\n",
    "Now that we've defined the query tools, we can wrap these under a `ToolService`."
   ]
  },
  {
   "cell_type": "code",
   "execution_count": null,
   "id": "9adc290c-1650-480f-8cb7-b81a9f1e1b76",
   "metadata": {},
   "outputs": [],
   "source": [
    "from llama_agents import (\n",
    "    AgentService,\n",
    "    ToolService,\n",
    "    LocalLauncher,\n",
    "    MetaServiceTool,\n",
    "    ControlPlaneServer,\n",
    "    SimpleMessageQueue,\n",
    "    AgentOrchestrator,\n",
    ")\n",
    "\n",
    "from llama_index.core.agent import FunctionCallingAgentWorker\n",
    "from llama_index.llms.openai import OpenAI\n",
    "\n",
    "\n",
    "# create our multi-agent framework components\n",
    "message_queue = SimpleMessageQueue()\n",
    "control_plane = ControlPlaneServer(\n",
    "    message_queue=message_queue,\n",
    "    orchestrator=AgentOrchestrator(llm=OpenAI(model=\"gpt-4o\")),\n",
    ")\n",
    "\n",
    "# define Tool Service\n",
    "tool_service = ToolService(\n",
    "    message_queue=message_queue,\n",
    "    tools=query_engine_tools,\n",
    "    running=True,\n",
    "    step_interval=0.5,\n",
    ")\n",
    "\n",
    "# define meta-tools here\n",
    "meta_tools = [\n",
    "    await MetaServiceTool.from_tool_service(\n",
    "        t.metadata.name,\n",
    "        message_queue=message_queue,\n",
    "        tool_service=tool_service,\n",
    "    )\n",
    "    for t in query_engine_tools\n",
    "]\n",
    "\n",
    "\n",
    "# define Agent and agent service\n",
    "worker1 = FunctionCallingAgentWorker.from_tools(\n",
    "    meta_tools,\n",
    "    llm=OpenAI(),\n",
    ")\n",
    "agent1 = worker1.as_agent()\n",
    "agent_server_1 = AgentService(\n",
    "    agent=agent1,\n",
    "    message_queue=message_queue,\n",
    "    description=\"Used to answer questions over Uber and Lyft 10K documents\",\n",
    "    service_name=\"uber_lyft_10k_analyst_agent\",\n",
    ")"
   ]
  },
  {
   "cell_type": "markdown",
   "id": "a19df0c2-7abe-4563-a4d8-3a47c13b65d0",
   "metadata": {},
   "source": [
    "## Launch agent \n",
    "\n",
    "With our services, orchestrator, control plane, and message queue defined, we can test our llama-agents network by passing in single messages, and observing the results.\n",
    "\n",
    "This is an excellent way to test, iterate, and debug your llama-agents system."
   ]
  },
  {
   "cell_type": "code",
   "execution_count": null,
   "id": "7780a9e7",
   "metadata": {},
   "outputs": [],
   "source": [
    "import logging\n",
    "\n",
    "# change logging level to enable or disable more verbose logging\n",
    "logging.getLogger(\"llama_agents\").setLevel(logging.INFO)"
   ]
  },
  {
   "cell_type": "code",
   "execution_count": null,
   "id": "7b41c86a-fd43-4f82-85ea-90f1208e810f",
   "metadata": {},
   "outputs": [],
   "source": [
    "## Define Launcher\n",
    "launcher = LocalLauncher(\n",
    "    [agent_server_1, tool_service],\n",
    "    control_plane,\n",
    "    message_queue,\n",
    ")"
   ]
  },
  {
   "cell_type": "code",
   "execution_count": null,
   "id": "6ddf856b-762c-4608-ac02-c1d5fc75bc63",
   "metadata": {},
   "outputs": [
    {
     "name": "stderr",
     "output_type": "stream",
     "text": [
      "INFO:llama_agents.message_queues.simple - Consumer 8c117a39-c015-4427-baeb-4e4e9297a2f0 has been registered.\n",
      "INFO:llama_agents.message_queues.simple - Consumer 4d1e800d-4c9b-4455-aa47-156ddbd045dc has been registered.\n",
      "INFO:llama_agents.message_queues.simple - Consumer a935e44e-cb6b-4f91-ac81-fb1e2396f527 has been registered.\n",
      "INFO:llama_agents.message_queues.simple - Consumer 93e5b14c-969d-48fd-94ec-f4df9eed502b has been registered.\n",
      "INFO:llama_agents.services.agent - uber_lyft_10k_analyst_agent launch_local\n",
      "INFO:llama_agents.message_queues.base - Publishing message to 'control_plane' with action 'ActionTypes.NEW_TASK'\n",
      "INFO:llama_agents.message_queues.simple - Launching message queue locally\n",
      "INFO:llama_agents.message_queues.base - Publishing message to 'uber_lyft_10k_analyst_agent' with action 'ActionTypes.NEW_TASK'\n",
      "INFO:llama_agents.message_queues.simple - Successfully published message 'control_plane' to consumer.\n",
      "INFO:llama_agents.message_queues.simple - Successfully published message 'uber_lyft_10k_analyst_agent' to consumer.\n",
      "INFO:llama_agents.message_queues.simple - Consumer 6e92a269-3cc5-447f-a6b2-bd1f63328a6c has been registered.\n",
      "INFO:llama_agents.message_queues.base - Publishing message to 'default_tool_service' with action 'ActionTypes.NEW_TOOL_CALL'\n",
      "INFO:llama_agents.message_queues.simple - Successfully published message 'default_tool_service' to consumer.\n",
      "INFO:llama_agents.services.tool - Processing tool call id b5aad0d0-c667-459d-8d85-6a511ecd004e with uber_10k\n",
      "INFO:llama_agents.message_queues.base - Publishing message to 'MetaServiceTool-8a9eff90-24b2-4e91-be6e-a71aace410f0' with action 'ActionTypes.COMPLETED_TOOL_CALL'\n",
      "INFO:llama_agents.message_queues.simple - Successfully published message 'MetaServiceTool-8a9eff90-24b2-4e91-be6e-a71aace410f0' to consumer.\n",
      "INFO:llama_agents.message_queues.base - Publishing message to 'control_plane' with action 'ActionTypes.COMPLETED_TASK'\n",
      "INFO:llama_agents.message_queues.base - Publishing message to 'uber_lyft_10k_analyst_agent' with action 'ActionTypes.NEW_TASK'\n",
      "INFO:llama_agents.message_queues.simple - Successfully published message 'control_plane' to consumer.\n",
      "INFO:llama_agents.message_queues.simple - Successfully published message 'uber_lyft_10k_analyst_agent' to consumer.\n",
      "INFO:llama_agents.message_queues.base - Publishing message to 'default_tool_service' with action 'ActionTypes.NEW_TOOL_CALL'\n",
      "INFO:llama_agents.message_queues.simple - Successfully published message 'default_tool_service' to consumer.\n",
      "INFO:llama_agents.services.tool - Processing tool call id 114151ae-6fc9-4a9f-88e2-e5b3efc3f01d with uber_10k\n",
      "INFO:llama_agents.message_queues.base - Publishing message to 'MetaServiceTool-8a9eff90-24b2-4e91-be6e-a71aace410f0' with action 'ActionTypes.COMPLETED_TOOL_CALL'\n",
      "INFO:llama_agents.message_queues.simple - Successfully published message 'MetaServiceTool-8a9eff90-24b2-4e91-be6e-a71aace410f0' to consumer.\n",
      "INFO:llama_agents.message_queues.base - Publishing message to 'control_plane' with action 'ActionTypes.COMPLETED_TASK'\n",
      "INFO:llama_agents.message_queues.base - Publishing message to 'uber_lyft_10k_analyst_agent' with action 'ActionTypes.NEW_TASK'\n",
      "INFO:llama_agents.message_queues.simple - Successfully published message 'control_plane' to consumer.\n",
      "INFO:llama_agents.message_queues.simple - Successfully published message 'uber_lyft_10k_analyst_agent' to consumer.\n",
      "INFO:llama_agents.message_queues.base - Publishing message to 'default_tool_service' with action 'ActionTypes.NEW_TOOL_CALL'\n",
      "INFO:llama_agents.message_queues.simple - Successfully published message 'default_tool_service' to consumer.\n",
      "INFO:llama_agents.services.tool - Processing tool call id 9c934c09-562d-4c99-945f-17d4b32f6233 with uber_10k\n",
      "INFO:llama_agents.message_queues.base - Publishing message to 'MetaServiceTool-8a9eff90-24b2-4e91-be6e-a71aace410f0' with action 'ActionTypes.COMPLETED_TOOL_CALL'\n",
      "INFO:llama_agents.message_queues.simple - Successfully published message 'MetaServiceTool-8a9eff90-24b2-4e91-be6e-a71aace410f0' to consumer.\n",
      "INFO:llama_agents.message_queues.base - Publishing message to 'control_plane' with action 'ActionTypes.COMPLETED_TASK'\n",
      "INFO:llama_agents.message_queues.base - Publishing message to 'human' with action 'ActionTypes.COMPLETED_TASK'\n",
      "INFO:llama_agents.message_queues.simple - Successfully published message 'control_plane' to consumer.\n",
      "INFO:llama_agents.message_queues.simple - Successfully published message 'human' to consumer.\n"
     ]
    }
   ],
   "source": [
    "# query_str = \"What was Lyft's revenue growth in 2021?\"\n",
    "# gets stuck in a loop, should mostly be called once\n",
    "query_str = \"What are the risk factors for Uber?\"\n",
    "result = launcher.launch_single(query_str)"
   ]
  },
  {
   "cell_type": "code",
   "execution_count": null,
   "id": "b0b3688f-cad4-450e-81fa-037dd1190260",
   "metadata": {},
   "outputs": [
    {
     "name": "stdout",
     "output_type": "stream",
     "text": [
      "The risk factors for Uber include potential harm to their business due to data security breaches, liabilities from breaches experienced by acquired companies, challenges in introducing new products and features, risks related to criminal or dangerous activities by platform users, potential safety incidents impacting reputation and financials, uncertainties in regulatory environments, and complexities related to compliance with Transportation Network Company regulations and driver classification laws.\n"
     ]
    }
   ],
   "source": [
    "print(result)"
   ]
  },
  {
   "cell_type": "code",
   "execution_count": null,
   "id": "7bbe1896",
   "metadata": {},
   "outputs": [
    {
     "name": "stderr",
     "output_type": "stream",
     "text": [
      "INFO:llama_agents.message_queues.simple - Consumer b3904573-8a31-4042-b296-838626333923 has been registered.\n",
      "INFO:llama_agents.message_queues.simple - Consumer 4da025ed-6826-4154-b06d-3fff1b3861ad has been registered.\n",
      "INFO:llama_agents.message_queues.simple - Consumer 56e8a461-9b30-4ff2-8040-8179d512d604 has been registered.\n",
      "INFO:llama_agents.message_queues.simple - Consumer 73b46786-543f-463d-9be5-87387bdd926e has been registered.\n",
      "INFO:llama_agents.services.agent - uber_lyft_10k_analyst_agent launch_local\n",
      "INFO:llama_agents.message_queues.base - Publishing message to 'control_plane' with action 'ActionTypes.NEW_TASK'\n",
      "INFO:llama_agents.message_queues.simple - Launching message queue locally\n",
      "INFO:llama_agents.message_queues.base - Publishing message to 'uber_lyft_10k_analyst_agent' with action 'ActionTypes.NEW_TASK'\n",
      "INFO:llama_agents.message_queues.simple - Successfully published message 'control_plane' to consumer.\n",
      "INFO:llama_agents.message_queues.simple - Successfully published message 'uber_lyft_10k_analyst_agent' to consumer.\n",
      "INFO:llama_agents.message_queues.simple - Consumer cfb00a0f-35a5-49cd-a046-a09418babd45 has been registered.\n",
      "INFO:llama_agents.message_queues.base - Publishing message to 'default_tool_service' with action 'ActionTypes.NEW_TOOL_CALL'\n",
      "INFO:llama_agents.message_queues.simple - Successfully published message 'default_tool_service' to consumer.\n",
      "INFO:llama_agents.services.tool - Processing tool call id 7c3e0161-109f-4afb-b71d-dde1c456b69b with lyft_10k\n",
      "INFO:llama_agents.message_queues.base - Publishing message to 'MetaServiceTool-c87bc317-ae49-4c9f-9eea-0e91e72fa8b6' with action 'ActionTypes.COMPLETED_TOOL_CALL'\n",
      "INFO:llama_agents.message_queues.simple - Successfully published message 'MetaServiceTool-c87bc317-ae49-4c9f-9eea-0e91e72fa8b6' to consumer.\n",
      "INFO:llama_agents.message_queues.base - Publishing message to 'control_plane' with action 'ActionTypes.COMPLETED_TASK'\n",
      "INFO:llama_agents.message_queues.base - Publishing message to 'human' with action 'ActionTypes.COMPLETED_TASK'\n",
      "INFO:llama_agents.message_queues.simple - Successfully published message 'control_plane' to consumer.\n",
      "INFO:llama_agents.message_queues.simple - Successfully published message 'human' to consumer.\n"
     ]
    }
   ],
   "source": [
    "query_str = \"What was Lyft's revenue growth in 2021?\"\n",
    "result = launcher.launch_single(query_str)"
   ]
  },
  {
   "cell_type": "code",
   "execution_count": null,
   "id": "2aa57e7f",
   "metadata": {},
   "outputs": [
    {
     "name": "stdout",
     "output_type": "stream",
     "text": [
      "Lyft's revenue increased by 36% in 2021 compared to the prior year.\n"
     ]
    }
   ],
   "source": [
    "print(result)"
   ]
  }
 ],
 "metadata": {
  "kernelspec": {
   "display_name": "Python 3 (ipykernel)",
   "language": "python",
   "name": "python3"
  },
  "language_info": {
   "codemirror_mode": {
    "name": "ipython",
    "version": 3
   },
   "file_extension": ".py",
   "mimetype": "text/x-python",
   "name": "python",
   "nbconvert_exporter": "python",
   "pygments_lexer": "ipython3"
  }
 },
 "nbformat": 4,
 "nbformat_minor": 5
}
